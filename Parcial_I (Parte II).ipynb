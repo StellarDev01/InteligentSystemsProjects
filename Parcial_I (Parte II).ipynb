{
 "cells": [
  {
   "cell_type": "markdown",
   "id": "e48e3e37-c675-43bf-88bc-f084af4a173e",
   "metadata": {},
   "source": [
    "### SISTEMAS INTELIGENTES II\n",
    "### PARCIAL - I (Parte II)"
   ]
  },
  {
   "cell_type": "markdown",
   "id": "90d478d0-324f-4674-857f-ada55868096c",
   "metadata": {},
   "source": [
    "#### 1. Espacio para las respuestas a las preguntas de la primera parte"
   ]
  },
  {
   "cell_type": "markdown",
   "id": "00a3bf6c-c90e-4381-af20-f726e8efed14",
   "metadata": {},
   "source": [
    "Pregunta 1.\n"
   ]
  },
  {
   "cell_type": "markdown",
   "id": "1a44a416-a749-4c55-ad40-694d948cecfe",
   "metadata": {},
   "source": [
    "Pregunta 2.\n"
   ]
  },
  {
   "cell_type": "markdown",
   "id": "17acaae6-c772-4fd8-9805-35c34d198ff7",
   "metadata": {},
   "source": [
    "Pregunta 3.\n"
   ]
  },
  {
   "cell_type": "markdown",
   "id": "26b65e9e-6da8-4fe8-aad3-3fa84a774a2e",
   "metadata": {},
   "source": [
    "Pregunta 4.\n"
   ]
  },
  {
   "cell_type": "markdown",
   "id": "3a86ba7f-f4c1-4f70-b981-722076d7d6b7",
   "metadata": {},
   "source": [
    "Pregunta 5.\n"
   ]
  },
  {
   "cell_type": "markdown",
   "id": "397aafba-472b-4469-b2f4-785362ab4e69",
   "metadata": {},
   "source": [
    "Pregunta 6.\n"
   ]
  },
  {
   "cell_type": "markdown",
   "id": "9cdee3f3-8e79-41de-b03e-63b28bcd8272",
   "metadata": {},
   "source": [
    "Pregunta 7.\n"
   ]
  },
  {
   "cell_type": "markdown",
   "id": "155cff8b-75fa-484c-aa47-067cd555b5c9",
   "metadata": {},
   "source": [
    "Pregunta 8.\n"
   ]
  },
  {
   "cell_type": "markdown",
   "id": "6b22ba43-6555-4d6a-9d24-d671c795deb1",
   "metadata": {},
   "source": [
    "Pregunta 9.\n"
   ]
  },
  {
   "cell_type": "markdown",
   "id": "d0d9cb5b-d726-4b1d-afe3-c5ace2db51d5",
   "metadata": {},
   "source": [
    "Pregunta 10.\n"
   ]
  },
  {
   "cell_type": "markdown",
   "id": "00e713f5-ea84-4999-b7cc-ce67849c026c",
   "metadata": {},
   "source": [
    "---"
   ]
  },
  {
   "cell_type": "markdown",
   "id": "46d90877-8995-4a96-beed-4ded4a80ffe3",
   "metadata": {},
   "source": [
    "#### 2. Análisis multivariado (valor = 1.5)\n",
    "\n",
    "Dataset: OrdenOnlineRestaurante.csv<br>\n",
    "Objetivo: El objetivo de este análisis es comprender cómo las variables demográficas y de ubicación pueden influir en el comportamiento de pedido de comida en línea, específicamente en la situación actual del pedido o el feedback del cliente.<br>\n",
    "\n",
    "1. Preprocesamiento de datos: Comienza por preprocesar los datos, asegurándote de manejar valores faltantes, codificar variables categóricas y normalizar las variables si es necesario.\n",
    "\n",
    "    "
   ]
  },
  {
   "cell_type": "code",
   "execution_count": null,
   "id": "8c95b48a-a57a-4f1c-934f-86656d256532",
   "metadata": {},
   "outputs": [],
   "source": []
  },
  {
   "cell_type": "markdown",
   "id": "90c8d69d-b633-4972-b416-707890e58666",
   "metadata": {},
   "source": [
    "2. División de datos: Divide el conjunto de datos en un conjunto de entrenamiento y un conjunto de prueba. Utiliza el conjunto de entrenamiento para ajustar el modelo y el conjunto de prueba para evaluar su rendimiento.\n",
    "\n",
    "    "
   ]
  },
  {
   "cell_type": "code",
   "execution_count": null,
   "id": "dfb9c066-d5a9-422c-94b3-a3b53ba653e5",
   "metadata": {},
   "outputs": [],
   "source": []
  },
  {
   "cell_type": "markdown",
   "id": "2d6b3b02-1771-41d2-af46-92c740cef2b1",
   "metadata": {},
   "source": [
    "3. Ajuste del modelo: Utiliza una regresión lineal multivariada para ajustar el modelo a tus datos. Esto implicará ajustar un modelo que relacione las variables dependientes con las variables independientes.\n",
    "\n",
    "    "
   ]
  },
  {
   "cell_type": "code",
   "execution_count": null,
   "id": "b4442610-9108-4342-8d13-b18e0dd2ccd0",
   "metadata": {},
   "outputs": [],
   "source": []
  },
  {
   "cell_type": "markdown",
   "id": "7322b260-aeb2-4d9e-9c67-1afa6c8a54bc",
   "metadata": {},
   "source": [
    "4. Evaluación del modelo: Evalúa el rendimiento del modelo utilizando métricas de evaluación como el coeficiente de determinación (R^2), el error cuadrático medio (MSE) o el error absoluto medio (MAE). Estas métricas te ayudarán a comprender qué tan bien se ajusta el modelo a los datos y si es capaz de predecir con precisión la situación del pedido o el feedback del cliente.\n",
    "\n",
    "    "
   ]
  },
  {
   "cell_type": "code",
   "execution_count": null,
   "id": "312a7bf6-e80d-49e0-8e71-88858752aa5b",
   "metadata": {},
   "outputs": [],
   "source": []
  },
  {
   "cell_type": "markdown",
   "id": "a2d7d1ee-b42d-41f3-9d37-a15818f91105",
   "metadata": {},
   "source": [
    "5. Interpretación de resultados: Una vez que hayas ajustado el modelo, interpreta los coeficientes para comprender cómo cada variable independiente influye en la situación del pedido o el feedback del cliente. Esto te ayudará a identificar qué características demográficas y de ubicación tienen el mayor impacto en el comportamiento de pedido de comida en línea."
   ]
  },
  {
   "cell_type": "code",
   "execution_count": null,
   "id": "1c339b0d-dc6f-42ca-8da0-1331f06f81fc",
   "metadata": {},
   "outputs": [],
   "source": []
  },
  {
   "cell_type": "markdown",
   "id": "e810bef7-e352-40fd-b9a1-b671994542b4",
   "metadata": {},
   "source": [
    "---"
   ]
  },
  {
   "cell_type": "markdown",
   "id": "34d324b8-4566-4c99-9876-cfb28287fbab",
   "metadata": {},
   "source": [
    "#### 3. Análisis exploratorio de datos (valor = 2.5)\n",
    "Haz todo un análisis exploratorio de datos sobre este conjunto de datos.Asegúrate de proporcionar la interpretación de cada aspecto tratado en tu análisis y la justificación de las operaciones que hagas.<br>\n",
    "Objetivo: El objetivo de este análisis es agrupar a los clientes en diferentes segmentos o clústeres basados en sus características demográficas y de ubicación.<br>"
   ]
  },
  {
   "cell_type": "code",
   "execution_count": null,
   "id": "ad667fcf-759d-4653-b0f9-f788f9efc073",
   "metadata": {},
   "outputs": [],
   "source": []
  }
 ],
 "metadata": {
  "kernelspec": {
   "display_name": "Python 3 (ipykernel)",
   "language": "python",
   "name": "python3"
  },
  "language_info": {
   "codemirror_mode": {
    "name": "ipython",
    "version": 3
   },
   "file_extension": ".py",
   "mimetype": "text/x-python",
   "name": "python",
   "nbconvert_exporter": "python",
   "pygments_lexer": "ipython3",
   "version": "3.9.19"
  }
 },
 "nbformat": 4,
 "nbformat_minor": 5
}
